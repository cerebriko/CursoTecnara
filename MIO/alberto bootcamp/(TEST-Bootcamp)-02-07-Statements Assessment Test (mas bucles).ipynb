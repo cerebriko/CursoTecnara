{
 "cells": [
  {
   "cell_type": "markdown",
   "metadata": {},
   "source": [
    "___\n",
    "\n",
    "<a href='https://www.udemy.com/user/joseportilla/'><img src='../Pierian_Data_Logo.png'/></a>\n",
    "___\n",
    "<center><em>Content Copyright by Pierian Data</em></center>\n",
    "\n",
    "\n",
    "NOTA: tomados de https://github.com/Pierian-Data/Complete-Python-3-Bootcamp\n",
    "con pequeños añadidos y aclaraciones para uso temporal en clase (Belerofontech)\n",
    "\n",
    "Copyright by Pierian Data, curso \"Complete Python Bootcamp\", de Jose Portilla (Udemy / GitHub)."
   ]
  },
  {
   "cell_type": "markdown",
   "metadata": {
    "collapsed": true
   },
   "source": [
    "# Statements Assessment Test\n",
    "Let's test your knowledge!"
   ]
  },
  {
   "cell_type": "markdown",
   "metadata": {},
   "source": [
    "_____\n",
    "**Use <code>for</code>, .split(), and <code>if</code> to create a piece of code that will print out words that start with 's':**"
   ]
  },
  {
   "cell_type": "code",
   "execution_count": 8,
   "metadata": {
    "collapsed": true
   },
   "outputs": [],
   "source": [
    "st = 'Print only the words that start with s in this sentence'"
   ]
  },
  {
   "cell_type": "code",
   "execution_count": 16,
   "metadata": {
    "collapsed": true
   },
   "outputs": [
    {
     "output_type": "stream",
     "name": "stdout",
     "text": [
      "words\nstart\ns\nthis\nsentence\n"
     ]
    }
   ],
   "source": [
    "#Code here\n",
    "st = 'Print only the words that start with s in this sentence'\n",
    "for i in st.split():\n",
    "    if \"s\" in i:\n",
    "        print(i)"
   ]
  },
  {
   "cell_type": "markdown",
   "metadata": {},
   "source": [
    "______\n",
    "**Use range() to print all the even numbers from 0 to 10.**\n",
    "\n",
    "NOTA: sólo los pares"
   ]
  },
  {
   "cell_type": "code",
   "execution_count": 1,
   "metadata": {
    "collapsed": true
   },
   "outputs": [
    {
     "output_type": "execute_result",
     "data": {
      "text/plain": [
       "[0, 2, 4, 6, 8, 10]"
      ]
     },
     "metadata": {},
     "execution_count": 1
    }
   ],
   "source": [
    "#Code Here\n",
    "list(range(0,11,2))"
   ]
  },
  {
   "cell_type": "markdown",
   "metadata": {},
   "source": [
    "_____\n",
    "**Go through the string below and if the length of a word is even print \"even!\"**"
   ]
  },
  {
   "cell_type": "code",
   "execution_count": null,
   "metadata": {
    "collapsed": true
   },
   "outputs": [],
   "source": [
    "st = 'Print every word in this sentence that has an even number of letters'"
   ]
  },
  {
   "cell_type": "code",
   "execution_count": 21,
   "metadata": {
    "collapsed": true
   },
   "outputs": [
    {
     "output_type": "stream",
     "name": "stdout",
     "text": [
      "in\nan\nof\n"
     ]
    }
   ],
   "source": [
    "#Code in this cell\n",
    "st = 'Print every word in this sentence that has an even number of letters'\n",
    "long=2\n",
    "\n",
    "\n",
    "for i in st.split():\n",
    "    if len(i) == long:\n",
    "        print(i)"
   ]
  },
  {
   "cell_type": "markdown",
   "metadata": {},
   "source": [
    "____\n",
    "**Write a program that prints the integers from 1 to 100. But for multiples of three print \"Fizz\" instead of the number, and for the multiples of five print \"Buzz\". For numbers which are multiples of both three and five print \"FizzBuzz\".**"
   ]
  },
  {
   "cell_type": "code",
   "execution_count": 25,
   "metadata": {
    "collapsed": true
   },
   "outputs": [
    {
     "output_type": "stream",
     "name": "stdout",
     "text": [
      "0 FizzBuzz\n1\n2\n3 Frizz\n4\n5 Buzz\n6 Frizz\n7\n8\n9 Frizz\n10 Buzz\n11\n12 Frizz\n13\n14\n15 FizzBuzz\n16\n17\n18 Frizz\n19\n20 Buzz\n21 Frizz\n22\n23\n24 Frizz\n25 Buzz\n26\n27 Frizz\n28\n29\n30 FizzBuzz\n31\n32\n33 Frizz\n34\n35 Buzz\n36 Frizz\n37\n38\n39 Frizz\n40 Buzz\n41\n42 Frizz\n43\n44\n45 FizzBuzz\n46\n47\n48 Frizz\n49\n50 Buzz\n51 Frizz\n52\n53\n54 Frizz\n55 Buzz\n56\n57 Frizz\n58\n59\n60 FizzBuzz\n61\n62\n63 Frizz\n64\n65 Buzz\n66 Frizz\n67\n68\n69 Frizz\n70 Buzz\n71\n72 Frizz\n73\n74\n75 FizzBuzz\n76\n77\n78 Frizz\n79\n80 Buzz\n81 Frizz\n82\n83\n84 Frizz\n85 Buzz\n86\n87 Frizz\n88\n89\n90 FizzBuzz\n91\n92\n93 Frizz\n94\n95 Buzz\n96 Frizz\n97\n98\n99 Frizz\n100 Buzz\n"
     ]
    }
   ],
   "source": [
    "#Code in this cell\n",
    "x=list(range(0,101))\n",
    "for i in x:\n",
    "    if i%3==0 and i%5==0:\n",
    "        print((i), \"FizzBuzz\")\n",
    "    elif i % 3 == 0:\n",
    "        print( (i), \"Frizz\")\n",
    "    elif i % 5 == 0:\n",
    "        print( (i), \"Buzz\")\n",
    "\n",
    "    else:\n",
    "        print(i)\n"
   ]
  },
  {
   "cell_type": "markdown",
   "metadata": {},
   "source": [
    "____\n",
    "**Use List Comprehension to create a list of the first letters of every word in the string below:**\n",
    "\n",
    "NOTA: lo doy ya resuelto. Es avanzado, usa \"list comprehensions\""
   ]
  },
  {
   "cell_type": "code",
   "execution_count": null,
   "metadata": {
    "collapsed": true
   },
   "outputs": [],
   "source": [
    "st = 'Create a list of the first letters of every word in this string'\n",
    "\n",
    "[ palabra[0] for palabra in st.split() ]\n"
   ]
  },
  {
   "cell_type": "markdown",
   "metadata": {},
   "source": [
    "### Great Job!"
   ]
  }
 ],
 "metadata": {
  "kernelspec": {
   "display_name": "Python 3",
   "language": "python",
   "name": "python3"
  },
  "language_info": {
   "codemirror_mode": {
    "name": "ipython",
    "version": 3
   },
   "file_extension": ".py",
   "mimetype": "text/x-python",
   "name": "python",
   "nbconvert_exporter": "python",
   "pygments_lexer": "ipython3",
   "version": "3.8.6-final"
  }
 },
 "nbformat": 4,
 "nbformat_minor": 1
}